{
 "cells": [
  {
   "cell_type": "code",
   "execution_count": 1,
   "id": "c096471b-81eb-4fe2-bc6a-03358ca6f14c",
   "metadata": {},
   "outputs": [],
   "source": [
    "#view already saved file#\n",
    "import pickle"
   ]
  },
  {
   "cell_type": "code",
   "execution_count": 2,
   "id": "afe7e3d4-b0ca-4f8c-8d74-11483365201e",
   "metadata": {},
   "outputs": [],
   "source": [
    "#load the saved model and gets input# \n",
    "loaded_model=pickle.load(open(\"finalized_model_SVM_Classification_Assignment.sav\",'rb'))\n",
    "result=loaded_model.predict([[10,50,2,0,150,50,3,120,2,12,1,1,0,0,1,1,0,1,0,1,1,0,1,0,1,0,1]])"
   ]
  },
  {
   "cell_type": "code",
   "execution_count": 3,
   "id": "1f439ed8-9678-4f86-9585-4278e666147f",
   "metadata": {},
   "outputs": [
    {
     "data": {
      "text/plain": [
       "array([1])"
      ]
     },
     "execution_count": 3,
     "metadata": {},
     "output_type": "execute_result"
    }
   ],
   "source": [
    "#prediction value#\n",
    "result"
   ]
  },
  {
   "cell_type": "code",
   "execution_count": null,
   "id": "b550d8ca-8580-45f6-a0c5-0a9f5722952d",
   "metadata": {},
   "outputs": [],
   "source": []
  }
 ],
 "metadata": {
  "kernelspec": {
   "display_name": "Python 3 (ipykernel)",
   "language": "python",
   "name": "python3"
  },
  "language_info": {
   "codemirror_mode": {
    "name": "ipython",
    "version": 3
   },
   "file_extension": ".py",
   "mimetype": "text/x-python",
   "name": "python",
   "nbconvert_exporter": "python",
   "pygments_lexer": "ipython3",
   "version": "3.11.7"
  }
 },
 "nbformat": 4,
 "nbformat_minor": 5
}
